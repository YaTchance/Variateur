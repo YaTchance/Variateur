{
 "cells": [
  {
   "cell_type": "markdown",
   "metadata": {},
   "source": [
    "##                              Variateur de couleur avec Caméra"
   ]
  },
  {
   "cell_type": "code",
   "execution_count": 2,
   "metadata": {},
   "outputs": [],
   "source": [
    "import cv2 \n",
    "import time \n",
    "import numpy as np\n",
    "import mediapipe as mp"
   ]
  },
  {
   "cell_type": "markdown",
   "metadata": {},
   "source": [
    "## Activer la caméra"
   ]
  },
  {
   "cell_type": "code",
   "execution_count": 3,
   "metadata": {},
   "outputs": [],
   "source": [
    "cap = cv2.VideoCapture(0) # 0 car il n'y a pas de caméra intégret sur le PC \n",
    "\n",
    "while True:\n",
    "    sucess, img = cap.read()\n",
    "   # Attendre 1 milliseconde et vérifier si l'utilisateur appuie sur la touche 'q' pour quitter\n",
    "    key = cv2.waitKey(1)\n",
    "    if key == ord('q') or key == 27:  # 'q' ou la touche 'Esc'\n",
    "        break\n",
    "    cv2.imshow(\"img\", img)"
   ]
  },
  {
   "cell_type": "markdown",
   "metadata": {},
   "source": [
    "## Caméra avec visu des FPS"
   ]
  },
  {
   "cell_type": "code",
   "execution_count": 4,
   "metadata": {},
   "outputs": [],
   "source": [
    "###################################\n",
    "wCam, hCam = 640,480\n",
    "###################################\n",
    "cap = cv2.VideoCapture(0)\n",
    "cap.set(3, wCam)\n",
    "cap.set(4, wCam)\n",
    "pTime = 0 \n",
    "while True:\n",
    "    sucess, img = cap.read()\n",
    "    \n",
    "    cTime = time.time()\n",
    "    fps = 1/(cTime-pTime)\n",
    "    pTime = cTime\n",
    "    \n",
    "    cv2.putText(img, f'FPS: {int(fps)}', (40,50), cv2.FONT_HERSHEY_COMPLEX,\n",
    "                1, (255,0,0),3)\n",
    "    # Attendre 1 milliseconde et vérifier si l'utilisateur appuie sur la touche 'q' pour quitter\n",
    "    key = cv2.waitKey(1)\n",
    "    if key == ord('q') or key == 27:  # 'q' ou la touche 'Esc'\n",
    "        break\n",
    "    cv2.imshow(\"img\", img)\n",
    "    cv2.waitKey(1)"
   ]
  },
  {
   "cell_type": "code",
   "execution_count": null,
   "metadata": {},
   "outputs": [],
   "source": [
    "\n",
    "\n",
    "###################################\n",
    "wCam, hCam = 640,480\n",
    "###################################\n",
    "\n",
    "cap = cv2.VideoCapture(0)\n",
    "mpHands = mp.solutions.hands\n",
    "hands = mpHands.Hands()\n",
    "mpDraw = mp.solutions.drawing_utils\n",
    "cTime = 0\n",
    "pTime = 0\n",
    "\n",
    "# Function Start\n",
    "while True:\n",
    "    success, img = cap.read()\n",
    "    imgRGB = cv2.cvtColor(img, cv2.COLOR_BGR2RGB)\n",
    "    results = hands.process(imgRGB)\n",
    "    \n",
    "    #print(results.multi_hand_landmarks)\n",
    "    if results.multi_hand_landmarks:\n",
    "        for handlms in results.multi_hand_landmarks:\n",
    "            for id, lm in enumerate(handlms.landmark):\n",
    "                #print(id, lm)\n",
    "                h, w, c = img.shape\n",
    "                cx, cy = int(lm.x*w), int(lm.y*h)\n",
    "                print(id, cx, cy)\n",
    "                #if id == 5:\n",
    "                cv2.circle(img, (cx, cy), 15, (139, 0, 0), cv2.FILLED)\n",
    "\n",
    "\n",
    "            mpDraw.draw_landmarks(img, handlms, mpHands.HAND_CONNECTIONS)\n",
    "            # Time and FPS Calculation\n",
    "   \n",
    "    cTime = time.time()\n",
    "    fps = 1/(cTime-pTime)\n",
    "    pTime = cTime\n",
    "    \n",
    "    cv2.putText(img, f'FPS: {int(fps)}', (40,50), cv2.FONT_HERSHEY_COMPLEX,\n",
    "                1, (255,0,0),3)\n",
    "    # Attendre 1 milliseconde et vérifier si l'utilisateur appuie sur la touche 'q' pour quitter\n",
    "    key = cv2.waitKey(1)\n",
    "    if key == ord('q') or key == 27:  # 'q' ou la touche 'Esc'\n",
    "        break\n",
    "    cv2.imshow(\"img\", img)\n",
    "    cv2.waitKey(1)\n"
   ]
  },
  {
   "cell_type": "code",
   "execution_count": null,
   "metadata": {},
   "outputs": [],
   "source": []
  }
 ],
 "metadata": {
  "kernelspec": {
   "display_name": "base",
   "language": "python",
   "name": "python3"
  },
  "language_info": {
   "codemirror_mode": {
    "name": "ipython",
    "version": 3
   },
   "file_extension": ".py",
   "mimetype": "text/x-python",
   "name": "python",
   "nbconvert_exporter": "python",
   "pygments_lexer": "ipython3",
   "version": "3.9.18"
  }
 },
 "nbformat": 4,
 "nbformat_minor": 2
}
