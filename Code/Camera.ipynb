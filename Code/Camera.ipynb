{
 "cells": [
  {
   "cell_type": "markdown",
   "metadata": {},
   "source": [
    "##                              Variateur de couleur avec Caméra"
   ]
  },
  {
   "cell_type": "code",
   "execution_count": 1,
   "metadata": {},
   "outputs": [],
   "source": [
    "import cv2 \n",
    "import time \n",
    "import numpy as np\n",
    "import mediapipe as mp\n"
   ]
  },
  {
   "cell_type": "markdown",
   "metadata": {},
   "source": [
    "## Activer la caméra"
   ]
  },
  {
   "cell_type": "code",
   "execution_count": 2,
   "metadata": {},
   "outputs": [],
   "source": [
    "cap = cv2.VideoCapture(0) # 0 car il n'y a pas de caméra intégret sur le PC \n",
    "\n",
    "while True:\n",
    "    sucess, img = cap.read()\n",
    "   # Attendre 1 milliseconde et vérifier si l'utilisateur appuie sur la touche 'q' pour quitter\n",
    "    key = cv2.waitKey(1)\n",
    "    if key == ord('q') or key == 27:  # 'q' ou la touche 'Esc'\n",
    "        break\n",
    "    cv2.imshow(\"img\", img)"
   ]
  },
  {
   "cell_type": "markdown",
   "metadata": {},
   "source": [
    "## Caméra avec visu des FPS"
   ]
  },
  {
   "cell_type": "code",
   "execution_count": 3,
   "metadata": {},
   "outputs": [
    {
     "ename": "",
     "evalue": "",
     "output_type": "error",
     "traceback": [
      "\u001b[1;31mThe Kernel crashed while executing code in the the current cell or a previous cell. Please review the code in the cell(s) to identify a possible cause of the failure. Click <a href='https://aka.ms/vscodeJupyterKernelCrash'>here</a> for more info. View Jupyter <a href='command:jupyter.viewOutput'>log</a> for further details."
     ]
    }
   ],
   "source": [
    "###################################\n",
    "wCam, hCam = 640,480\n",
    "###################################\n",
    "cap = cv2.VideoCapture(0)\n",
    "cap.set(3, wCam)\n",
    "cap.set(4, wCam)\n",
    "pTime = 0 \n",
    "while True:\n",
    "    sucess, img = cap.read()\n",
    "    \n",
    "    cTime = time.time()\n",
    "    fps = 1/(cTime-pTime)\n",
    "    pTime = cTime\n",
    "    \n",
    "    cv2.putText(img, f'FPS: {int(fps)}', (40,50), cv2.FONT_HERSHEY_COMPLEX,\n",
    "                1, (255,0,0),3)\n",
    "    # Attendre 1 milliseconde et vérifier si l'utilisateur appuie sur la touche 'q' pour quitter\n",
    "    key = cv2.waitKey(1)\n",
    "    if key == ord('q') or key == 27:  # 'q' ou la touche 'Esc'\n",
    "        break\n",
    "    cv2.imshow(\"img\", img)\n",
    "    cv2.waitKey(1)"
   ]
  },
  {
   "cell_type": "code",
   "execution_count": null,
   "metadata": {},
   "outputs": [],
   "source": []
  }
 ],
 "metadata": {
  "kernelspec": {
   "display_name": "base",
   "language": "python",
   "name": "python3"
  },
  "language_info": {
   "codemirror_mode": {
    "name": "ipython",
    "version": 3
   },
   "file_extension": ".py",
   "mimetype": "text/x-python",
   "name": "python",
   "nbconvert_exporter": "python",
   "pygments_lexer": "ipython3",
   "version": "3.9.18"
  }
 },
 "nbformat": 4,
 "nbformat_minor": 2
}
